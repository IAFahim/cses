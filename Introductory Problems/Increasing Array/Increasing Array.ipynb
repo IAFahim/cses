{
 "cells": [
  {
   "metadata": {},
   "cell_type": "markdown",
   "source": [
    "You are given an array of n integers. You want to modify the array so that it is increasing, i.e., every element is at least as large as the previous element.\n",
    "On each move, you may increase the value of any element by one. What is the minimum number of moves required?\n",
    "Input\n",
    "The first input line contains an integer n: the size of the array.\n",
    "Then, the second line contains n integers x_1,x_2,\\ldots,x_n: the contents of the array.\n",
    "Output\n",
    "Print the minimum number of moves.\n",
    "Constraints\n",
    "\n",
    "1 \\le n \\le 2 \\cdot 10^5\n",
    "1 \\le x_i \\le 10^9\n",
    "\n",
    "Example\n",
    "Input:\n",
    "5\n",
    "3 2 5 1 7\n",
    "\n",
    "Output:\n",
    "5\n"
   ],
   "id": "fb2d29e0ee52482c"
  },
  {
   "cell_type": "code",
   "id": "initial_id",
   "metadata": {
    "collapsed": true,
    "ExecuteTime": {
     "end_time": "2025-07-19T04:13:12.936848Z",
     "start_time": "2025-07-19T04:13:12.931299Z"
    }
   },
   "source": [
    "from typing import Iterable\n",
    "\n",
    "\n",
    "def inputs() -> (int, Iterable[int]):\n",
    "    return input(), map(int, input().split(\" \"))"
   ],
   "outputs": [],
   "execution_count": 7
  },
  {
   "metadata": {
    "ExecuteTime": {
     "end_time": "2025-07-19T04:27:27.237608Z",
     "start_time": "2025-07-19T04:27:27.224119Z"
    }
   },
   "cell_type": "code",
   "source": [
    "def outputs(x: Iterable[int]) -> int:\n",
    "    added = 0\n",
    "    highest = next(x)\n",
    "    for i in x:\n",
    "        if i < highest:\n",
    "            need = highest - i\n",
    "            added += need\n",
    "        else:\n",
    "            highest = i\n",
    "    return added"
   ],
   "id": "f3e1ec7e2b1cee3",
   "outputs": [],
   "execution_count": 36
  },
  {
   "metadata": {
    "ExecuteTime": {
     "end_time": "2025-07-19T04:21:17.205397Z",
     "start_time": "2025-07-19T04:21:09.505164Z"
    }
   },
   "cell_type": "code",
   "source": [
    "_n, x = inputs()\n",
    "added = outputs(x)\n",
    "print(added)"
   ],
   "id": "c5bf84f7c8b5848d",
   "outputs": [
    {
     "name": "stdout",
     "output_type": "stream",
     "text": [
      "4\n"
     ]
    }
   ],
   "execution_count": 14
  }
 ],
 "metadata": {
  "kernelspec": {
   "display_name": "Python 3",
   "language": "python",
   "name": "python3"
  },
  "language_info": {
   "codemirror_mode": {
    "name": "ipython",
    "version": 2
   },
   "file_extension": ".py",
   "mimetype": "text/x-python",
   "name": "python",
   "nbconvert_exporter": "python",
   "pygments_lexer": "ipython2",
   "version": "2.7.6"
  }
 },
 "nbformat": 4,
 "nbformat_minor": 5
}
