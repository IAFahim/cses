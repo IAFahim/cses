{
 "cells": [
  {
   "metadata": {},
   "cell_type": "markdown",
   "source": [
    "You are given all numbers between 1,2,\\ldots,n except one. Your task is to find the missing number.\n",
    "Input\n",
    "The first input line contains an integer n.\n",
    "The second line contains n-1 numbers. Each number is distinct and between 1 and n (inclusive).\n",
    "Output\n",
    "Print the missing number.\n",
    "Constraints\n",
    "\n",
    "2 \\le n \\le 2 \\cdot 10^5\n",
    "\n",
    "Example\n",
    "Input:\n",
    "5\n",
    "2 3 1 5\n",
    "\n",
    "Output:\n",
    "4\n"
   ],
   "id": "77f2563aa2284e10"
  },
  {
   "cell_type": "code",
   "id": "initial_id",
   "metadata": {
    "collapsed": true,
    "jupyter": {
     "is_executing": true
    },
    "ExecuteTime": {
     "start_time": "2025-07-16T02:55:30.237158Z"
    }
   },
   "source": [
    "n = int(input())\n",
    "arr: list[int] = list(map(int, input().split(\" \")))"
   ],
   "outputs": [],
   "execution_count": null
  },
  {
   "metadata": {
    "ExecuteTime": {
     "end_time": "2025-07-16T02:55:07.894326Z",
     "start_time": "2025-07-16T02:55:07.819425Z"
    }
   },
   "cell_type": "code",
   "source": "arr.sort()",
   "id": "edff815ee4746f96",
   "outputs": [
    {
     "ename": "AttributeError",
     "evalue": "'map' object has no attribute 'sort'",
     "output_type": "error",
     "traceback": [
      "\u001B[31m---------------------------------------------------------------------------\u001B[39m",
      "\u001B[31mAttributeError\u001B[39m                            Traceback (most recent call last)",
      "\u001B[36mCell\u001B[39m\u001B[36m \u001B[39m\u001B[32mIn[3]\u001B[39m\u001B[32m, line 1\u001B[39m\n\u001B[32m----> \u001B[39m\u001B[32m1\u001B[39m \u001B[43marr\u001B[49m\u001B[43m.\u001B[49m\u001B[43msort\u001B[49m()\n",
      "\u001B[31mAttributeError\u001B[39m: 'map' object has no attribute 'sort'"
     ]
    }
   ],
   "execution_count": 3
  },
  {
   "metadata": {
    "ExecuteTime": {
     "end_time": "2025-07-16T02:55:25.436549Z",
     "start_time": "2025-07-16T02:55:25.429276Z"
    }
   },
   "cell_type": "code",
   "source": "arr",
   "id": "2b705adb7ea6ead",
   "outputs": [
    {
     "data": {
      "text/plain": [
       "<map at 0x7a63f624d390>"
      ]
     },
     "execution_count": 4,
     "metadata": {},
     "output_type": "execute_result"
    }
   ],
   "execution_count": 4
  }
 ],
 "metadata": {
  "kernelspec": {
   "display_name": "Python 3",
   "language": "python",
   "name": "python3"
  },
  "language_info": {
   "codemirror_mode": {
    "name": "ipython",
    "version": 2
   },
   "file_extension": ".py",
   "mimetype": "text/x-python",
   "name": "python",
   "nbconvert_exporter": "python",
   "pygments_lexer": "ipython2",
   "version": "2.7.6"
  }
 },
 "nbformat": 4,
 "nbformat_minor": 5
}
