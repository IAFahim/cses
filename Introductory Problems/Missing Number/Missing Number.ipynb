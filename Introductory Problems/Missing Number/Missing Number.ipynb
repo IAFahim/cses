{
 "cells": [
  {
   "metadata": {},
   "cell_type": "markdown",
   "source": [
    "You are given all numbers between 1,2,\\ldots,n except one. Your task is to find the missing number.\n",
    "Input\n",
    "The first input line contains an integer n.\n",
    "The second line contains n-1 numbers. Each number is distinct and between 1 and n (inclusive).\n",
    "Output\n",
    "Print the missing number.\n",
    "Constraints\n",
    "\n",
    "2 \\le n \\le 2 \\cdot 10^5\n",
    "\n",
    "Example\n",
    "Input:\n",
    "5\n",
    "2 3 1 5\n",
    "\n",
    "Output:\n",
    "4\n"
   ],
   "id": "77f2563aa2284e10"
  },
  {
   "metadata": {
    "ExecuteTime": {
     "end_time": "2025-07-16T03:51:29.787226Z",
     "start_time": "2025-07-16T03:51:29.784097Z"
    }
   },
   "cell_type": "code",
   "source": [
    "def inputs() -> tuple[int, list[int]]:\n",
    "    n: int = int(input())\n",
    "    arr: list[int] = list(map(int, input().split(\" \")))\n",
    "    return n, arr"
   ],
   "id": "78d6fc24d05e051b",
   "outputs": [],
   "execution_count": 38
  },
  {
   "metadata": {
    "tags": [
     "parameters"
    ],
    "ExecuteTime": {
     "end_time": "2025-07-16T03:51:31.039119Z",
     "start_time": "2025-07-16T03:51:31.034689Z"
    }
   },
   "cell_type": "code",
   "source": [
    "def outputs(n: int, arr: list[int]) -> int:\n",
    "    arr.sort()\n",
    "    for i in range(len(arr) - 1):\n",
    "        if arr[i] + 1 != arr[i + 1]:\n",
    "            return arr[i] + 1\n",
    "    if arr[0] != 1:\n",
    "        return 1\n",
    "    else:\n",
    "        return n"
   ],
   "id": "edff815ee4746f96",
   "outputs": [],
   "execution_count": 39
  },
  {
   "metadata": {
    "ExecuteTime": {
     "end_time": "2025-07-16T03:51:38.604273Z",
     "start_time": "2025-07-16T03:51:32.356896Z"
    }
   },
   "cell_type": "code",
   "source": [
    "n, arr = inputs()\n",
    "k = outputs(n, arr)\n",
    "print(k)"
   ],
   "id": "2b705adb7ea6ead",
   "outputs": [
    {
     "name": "stdout",
     "output_type": "stream",
     "text": [
      "5\n"
     ]
    }
   ],
   "execution_count": 40
  }
 ],
 "metadata": {
  "kernelspec": {
   "display_name": "Python 3",
   "language": "python",
   "name": "python3"
  },
  "language_info": {
   "codemirror_mode": {
    "name": "ipython",
    "version": 2
   },
   "file_extension": ".py",
   "mimetype": "text/x-python",
   "name": "python",
   "nbconvert_exporter": "python",
   "pygments_lexer": "ipython2",
   "version": "2.7.6"
  }
 },
 "nbformat": 4,
 "nbformat_minor": 5
}
