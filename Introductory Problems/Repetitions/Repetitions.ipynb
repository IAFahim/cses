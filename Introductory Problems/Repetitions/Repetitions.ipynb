{
 "cells": [
  {
   "metadata": {},
   "cell_type": "markdown",
   "source": [
    "You are given a DNA sequence: a string consisting of characters A, C, G, and T. Your task is to find the longest repetition in the sequence. This is a maximum-length substring containing only one type of character.\n",
    "Input\n",
    "The only input line contains a string of n characters.\n",
    "Output\n",
    "Print one integer: the length of the longest repetition.\n",
    "Constraints\n",
    "\n",
    "1 \\le n \\le 10^6\n",
    "\n",
    "Example\n",
    "Input:\n",
    "ATTCGGGA\n",
    "\n",
    "Output:\n",
    "3"
   ],
   "id": "711f0c1709a0502"
  },
  {
   "cell_type": "code",
   "id": "initial_id",
   "metadata": {
    "collapsed": true,
    "ExecuteTime": {
     "end_time": "2025-07-19T04:03:56.663526Z",
     "start_time": "2025-07-19T04:03:56.661967Z"
    }
   },
   "source": [
    "def inputs() -> str:\n",
    "    return input()"
   ],
   "outputs": [],
   "execution_count": 9
  },
  {
   "metadata": {
    "ExecuteTime": {
     "end_time": "2025-07-19T04:05:52.470984Z",
     "start_time": "2025-07-19T04:05:52.465323Z"
    }
   },
   "cell_type": "code",
   "source": [
    "def outputs(dna: str) -> int:\n",
    "    current = dna[0]\n",
    "    highest = 0\n",
    "    track = 1\n",
    "    for c in dna[1:]:\n",
    "        if current == c:\n",
    "            track += 1\n",
    "        else:\n",
    "            current = c\n",
    "            highest = max(track, highest)\n",
    "            track = 1\n",
    "    highest = max(track, highest)\n",
    "    return highest"
   ],
   "id": "a96bda6d468ef39c",
   "outputs": [],
   "execution_count": 15
  },
  {
   "metadata": {
    "ExecuteTime": {
     "end_time": "2025-07-19T04:06:00.028250Z",
     "start_time": "2025-07-19T04:05:55.109253Z"
    }
   },
   "cell_type": "code",
   "source": [
    "dna = inputs()\n",
    "highest = outputs(dna)\n",
    "print(highest)"
   ],
   "id": "9bbccea6e9d2c515",
   "outputs": [
    {
     "name": "stdout",
     "output_type": "stream",
     "text": [
      "10\n"
     ]
    }
   ],
   "execution_count": 16
  }
 ],
 "metadata": {
  "kernelspec": {
   "display_name": "Python 3",
   "language": "python",
   "name": "python3"
  },
  "language_info": {
   "codemirror_mode": {
    "name": "ipython",
    "version": 2
   },
   "file_extension": ".py",
   "mimetype": "text/x-python",
   "name": "python",
   "nbconvert_exporter": "python",
   "pygments_lexer": "ipython2",
   "version": "2.7.6"
  }
 },
 "nbformat": 4,
 "nbformat_minor": 5
}
