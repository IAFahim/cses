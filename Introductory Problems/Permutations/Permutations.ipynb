{
 "cells": [
  {
   "metadata": {},
   "cell_type": "markdown",
   "source": [
    "A permutation of integers 1,2,\\ldots,n is called beautiful if there are no adjacent elements whose difference is 1.\n",
    "Given n, construct a beautiful permutation if such a permutation exists.\n",
    "Input\n",
    "The only input line contains an integer n.\n",
    "Output\n",
    "Print a beautiful permutation of integers 1,2,\\ldots,n. If there are several solutions, you may print any of them. If there are no solutions, print \"NO SOLUTION\".\n",
    "Constraints\n",
    "\n",
    "1 \\le n \\le 10^6\n",
    "\n",
    "Example 1\n",
    "Input:\n",
    "5\n",
    "\n",
    "Output:\n",
    "4 2 5 3 1\n",
    "Example 2\n",
    "Input:\n",
    "3\n",
    "\n",
    "Output:\n",
    "NO SOLUTION"
   ],
   "id": "bdb2e98c12401f61"
  },
  {
   "cell_type": "code",
   "id": "initial_id",
   "metadata": {
    "collapsed": true,
    "ExecuteTime": {
     "end_time": "2025-07-20T09:52:08.921309Z",
     "start_time": "2025-07-20T09:52:08.916822Z"
    }
   },
   "source": [
    "def inputs() -> int:\n",
    "    n = int(input())\n",
    "    return n"
   ],
   "outputs": [],
   "execution_count": 39
  },
  {
   "metadata": {
    "ExecuteTime": {
     "end_time": "2025-07-20T09:52:08.938750Z",
     "start_time": "2025-07-20T09:52:08.935558Z"
    }
   },
   "cell_type": "code",
   "source": [
    "def outputs(n: int) -> str | list[int]:\n",
    "    if n in [3, 2]:\n",
    "        return \"NO SOLUTION\"\n",
    "    else:\n",
    "        arr = []\n",
    "        for i in range(n -1, 0, -2):\n",
    "            arr.append(i)\n",
    "\n",
    "        for i in range(n, 0, -2):\n",
    "            arr.append(i)\n",
    "        return arr"
   ],
   "id": "4888e7810b8d2e58",
   "outputs": [],
   "execution_count": 40
  },
  {
   "metadata": {
    "ExecuteTime": {
     "end_time": "2025-07-20T09:52:12.688469Z",
     "start_time": "2025-07-20T09:52:08.992290Z"
    }
   },
   "cell_type": "code",
   "source": [
    "n = inputs()\n",
    "arr = outputs(n)\n",
    "print(arr) if isinstance(arr, str) else print(*arr)"
   ],
   "id": "9bc1b6c4c7e25adb",
   "outputs": [
    {
     "name": "stdout",
     "output_type": "stream",
     "text": [
      "3 1 4 2\n"
     ]
    }
   ],
   "execution_count": 41
  }
 ],
 "metadata": {
  "kernelspec": {
   "display_name": "Python 3",
   "language": "python",
   "name": "python3"
  },
  "language_info": {
   "codemirror_mode": {
    "name": "ipython",
    "version": 2
   },
   "file_extension": ".py",
   "mimetype": "text/x-python",
   "name": "python",
   "nbconvert_exporter": "python",
   "pygments_lexer": "ipython2",
   "version": "2.7.6"
  }
 },
 "nbformat": 4,
 "nbformat_minor": 5
}
