{
 "cells": [
  {
   "metadata": {},
   "cell_type": "markdown",
   "source": [
    "Consider an algorithm that takes as input a positive integer n. If n is even, the algorithm divides it by two, and if n is odd, the algorithm multiplies it by three and adds one. The algorithm repeats this, until n is one. For example, the sequence for n=3 is as follows:\n",
    "$$ 3 \\rightarrow 10 \\rightarrow 5 \\rightarrow 16 \\rightarrow 8 \\rightarrow 4 \\rightarrow 2 \\rightarrow 1$$\n",
    "Your task is to simulate the execution of the algorithm for a given value of n.\n",
    "Input\n",
    "The only input line contains an integer n.\n",
    "Output\n",
    "Print a line that contains all values of n during the algorithm.\n",
    "Constraints\n",
    "\n",
    "1 \\le n \\le 10^6\n",
    "\n",
    "Example\n",
    "Input:\n",
    "3\n",
    "\n",
    "Output:\n",
    "3 10 5 16 8 4 2 1\n"
   ],
   "id": "23e5363a68bb24a0"
  },
  {
   "cell_type": "code",
   "id": "initial_id",
   "metadata": {
    "collapsed": true,
    "ExecuteTime": {
     "end_time": "2025-07-14T04:21:18.515187Z",
     "start_time": "2025-07-14T04:21:16.810565Z"
    }
   },
   "source": [
    "n = int(input())\n",
    "while True:\n",
    "    if n == 1:\n",
    "        break\n",
    "    print(n, end=\" \")\n",
    "    if not (n & 1):\n",
    "        n = n//2\n",
    "    else:\n",
    "        n = n * 3 + 1"
   ],
   "outputs": [
    {
     "name": "stdout",
     "output_type": "stream",
     "text": [
      "3 10 5 16 8 4 2 "
     ]
    }
   ],
   "execution_count": 2
  }
 ],
 "metadata": {
  "kernelspec": {
   "display_name": "Python 3",
   "language": "python",
   "name": "python3"
  },
  "language_info": {
   "codemirror_mode": {
    "name": "ipython",
    "version": 2
   },
   "file_extension": ".py",
   "mimetype": "text/x-python",
   "name": "python",
   "nbconvert_exporter": "python",
   "pygments_lexer": "ipython2",
   "version": "2.7.6"
  }
 },
 "nbformat": 4,
 "nbformat_minor": 5
}
